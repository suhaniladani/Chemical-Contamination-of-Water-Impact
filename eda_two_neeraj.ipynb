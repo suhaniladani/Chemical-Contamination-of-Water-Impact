{
 "cells": [
  {
   "cell_type": "code",
   "execution_count": 38,
   "metadata": {},
   "outputs": [],
   "source": [
    "\n",
    "import pandas as pd\n",
    "import matplotlib.pyplot as plt\n",
    "import numpy as np\n",
    "from scipy.stats import norm\n",
    "from scipy import stats\n",
    "import sklearn\n",
    "import warnings\n",
    "warnings.filterwarnings('ignore')\n",
    "%matplotlib inline\n",
    "import seaborn as sns"
   ]
  },
  {
   "cell_type": "code",
   "execution_count": 55,
   "metadata": {},
   "outputs": [],
   "source": [
    "def join_two_datasets(df, other_df, fields):\n",
    "\n",
    "    df['fips'] = df['fips'].astype(int)\n",
    "    other_df['fips'] = other_df['fips'].astype(int)\n",
    "    return pd.merge(df, other_df, on=fields)\n",
    "\n",
    "def read_csv(df_name):\n",
    "    return pd.read_csv(df_name + '_processed.csv')"
   ]
  },
  {
   "cell_type": "code",
   "execution_count": 40,
   "metadata": {},
   "outputs": [
    {
     "data": {
      "text/html": [
       "<script>requirejs.config({paths: { 'plotly': ['https://cdn.plot.ly/plotly-latest.min']},});if(!window.Plotly) {{require(['plotly'],function(plotly) {window.Plotly=plotly;});}}</script>"
      ],
      "text/vnd.plotly.v1+html": [
       "<script>requirejs.config({paths: { 'plotly': ['https://cdn.plot.ly/plotly-latest.min']},});if(!window.Plotly) {{require(['plotly'],function(plotly) {window.Plotly=plotly;});}}</script>"
      ]
     },
     "metadata": {},
     "output_type": "display_data"
    },
    {
     "name": "stdout",
     "output_type": "stream",
     "text": [
      "1\n"
     ]
    }
   ],
   "source": [
    "from plotly import __version__\n",
    "from plotly.offline import download_plotlyjs, init_notebook_mode, plot, iplot\n",
    "import plotly.figure_factory as ff\n",
    "import plotly.io as pio\n",
    "init_notebook_mode(connected=True)\n",
    "print(1)"
   ]
  },
  {
   "cell_type": "code",
   "execution_count": 41,
   "metadata": {},
   "outputs": [
    {
     "data": {
      "text/html": [
       "<div>\n",
       "<style scoped>\n",
       "    .dataframe tbody tr th:only-of-type {\n",
       "        vertical-align: middle;\n",
       "    }\n",
       "\n",
       "    .dataframe tbody tr th {\n",
       "        vertical-align: top;\n",
       "    }\n",
       "\n",
       "    .dataframe thead th {\n",
       "        text-align: right;\n",
       "    }\n",
       "</style>\n",
       "<table border=\"1\" class=\"dataframe\">\n",
       "  <thead>\n",
       "    <tr style=\"text-align: right;\">\n",
       "      <th></th>\n",
       "      <th>cws_name</th>\n",
       "      <th>chemical_species</th>\n",
       "      <th>contaminant_level</th>\n",
       "      <th>county</th>\n",
       "      <th>pws_id</th>\n",
       "      <th>pop_served</th>\n",
       "      <th>state</th>\n",
       "      <th>unit_measurement</th>\n",
       "      <th>value</th>\n",
       "      <th>year</th>\n",
       "      <th>fips</th>\n",
       "      <th>state_fips</th>\n",
       "    </tr>\n",
       "  </thead>\n",
       "  <tbody>\n",
       "    <tr>\n",
       "      <th>0</th>\n",
       "      <td>CALIFORNIA WATER SERVICE - LIVERMORE</td>\n",
       "      <td>Uranium</td>\n",
       "      <td>0</td>\n",
       "      <td>Alameda</td>\n",
       "      <td>CA0110003</td>\n",
       "      <td>57200</td>\n",
       "      <td>California</td>\n",
       "      <td>micrograms/L</td>\n",
       "      <td>1.54</td>\n",
       "      <td>2000</td>\n",
       "      <td>6001</td>\n",
       "      <td>6</td>\n",
       "    </tr>\n",
       "    <tr>\n",
       "      <th>1</th>\n",
       "      <td>CITY OF LIVERMORE</td>\n",
       "      <td>Uranium</td>\n",
       "      <td>0</td>\n",
       "      <td>Alameda</td>\n",
       "      <td>CA0110011</td>\n",
       "      <td>26400</td>\n",
       "      <td>California</td>\n",
       "      <td>micrograms/L</td>\n",
       "      <td>1.64</td>\n",
       "      <td>2000</td>\n",
       "      <td>6001</td>\n",
       "      <td>6</td>\n",
       "    </tr>\n",
       "    <tr>\n",
       "      <th>2</th>\n",
       "      <td>CITY OF PLEASANTON</td>\n",
       "      <td>Uranium</td>\n",
       "      <td>0</td>\n",
       "      <td>Alameda</td>\n",
       "      <td>CA0110008</td>\n",
       "      <td>70600</td>\n",
       "      <td>California</td>\n",
       "      <td>micrograms/L</td>\n",
       "      <td>1.64</td>\n",
       "      <td>2000</td>\n",
       "      <td>6001</td>\n",
       "      <td>6</td>\n",
       "    </tr>\n",
       "    <tr>\n",
       "      <th>3</th>\n",
       "      <td>DUBLIN SAN RAMON SERVICES DISTRICT</td>\n",
       "      <td>Uranium</td>\n",
       "      <td>0</td>\n",
       "      <td>Alameda</td>\n",
       "      <td>CA0110009</td>\n",
       "      <td>72500</td>\n",
       "      <td>California</td>\n",
       "      <td>micrograms/L</td>\n",
       "      <td>1.64</td>\n",
       "      <td>2000</td>\n",
       "      <td>6001</td>\n",
       "      <td>6</td>\n",
       "    </tr>\n",
       "    <tr>\n",
       "      <th>4</th>\n",
       "      <td>NORRIS CANYON PROPERTY OWNERS ASSN</td>\n",
       "      <td>Uranium</td>\n",
       "      <td>0</td>\n",
       "      <td>Alameda</td>\n",
       "      <td>CA0103040</td>\n",
       "      <td>100</td>\n",
       "      <td>California</td>\n",
       "      <td>micrograms/L</td>\n",
       "      <td>4.51</td>\n",
       "      <td>2000</td>\n",
       "      <td>6001</td>\n",
       "      <td>6</td>\n",
       "    </tr>\n",
       "  </tbody>\n",
       "</table>\n",
       "</div>"
      ],
      "text/plain": [
       "                               cws_name chemical_species  contaminant_level  \\\n",
       "0  CALIFORNIA WATER SERVICE - LIVERMORE          Uranium                  0   \n",
       "1                     CITY OF LIVERMORE          Uranium                  0   \n",
       "2                    CITY OF PLEASANTON          Uranium                  0   \n",
       "3    DUBLIN SAN RAMON SERVICES DISTRICT          Uranium                  0   \n",
       "4    NORRIS CANYON PROPERTY OWNERS ASSN          Uranium                  0   \n",
       "\n",
       "    county     pws_id pop_served       state unit_measurement  value  year  \\\n",
       "0  Alameda  CA0110003      57200  California     micrograms/L   1.54  2000   \n",
       "1  Alameda  CA0110011      26400  California     micrograms/L   1.64  2000   \n",
       "2  Alameda  CA0110008      70600  California     micrograms/L   1.64  2000   \n",
       "3  Alameda  CA0110009      72500  California     micrograms/L   1.64  2000   \n",
       "4  Alameda  CA0103040        100  California     micrograms/L   4.51  2000   \n",
       "\n",
       "   fips  state_fips  \n",
       "0  6001           6  \n",
       "1  6001           6  \n",
       "2  6001           6  \n",
       "3  6001           6  \n",
       "4  6001           6  "
      ]
     },
     "execution_count": 41,
     "metadata": {},
     "output_type": "execute_result"
    }
   ],
   "source": [
    "df_chemicals = read_csv('chemicals')\n",
    "df_chemicals.head()"
   ]
  },
  {
   "cell_type": "code",
   "execution_count": 42,
   "metadata": {},
   "outputs": [],
   "source": [
    "def create_plotly_map(fips, vals, filename, display=False):\n",
    "    fips = list(fips)\n",
    "    vals = list(vals)\n",
    "    fig = ff.create_choropleth(fips=fips, values=vals)\n",
    "    print('created figure')\n",
    "    pio.write_image(fig, filename)\n",
    "    print('writing figure')\n",
    "    if display:\n",
    "        print('drawing figure')\n",
    "        iplot(fig, filename=filename)\n",
    "    print('done')"
   ]
  },
  {
   "cell_type": "code",
   "execution_count": null,
   "metadata": {},
   "outputs": [],
   "source": [
    "#df_chemicals_new = df_chemicals.drop(columns=['unit_measurement', 'state', 'pws_id', 'county', 'cws_name', 'state_fips'])\n",
    "#df_chemicals_new.head()"
   ]
  },
  {
   "cell_type": "code",
   "execution_count": 43,
   "metadata": {},
   "outputs": [
    {
     "name": "stdout",
     "output_type": "stream",
     "text": [
      "1413\n",
      "1413\n",
      "1413\n"
     ]
    }
   ],
   "source": [
    "fips_ids = []\n",
    "contaminant_levels = []\n",
    "population_served = []\n",
    "df_chemicals = df_chemicals.dropna()\n",
    "#df_chemicals = df_chemicals[df_chemicals['year'] == 2016]\n",
    "df_chemicals.pop_served = df_chemicals.pop_served.astype(int)\n",
    "for region, df_region in df_chemicals.groupby('fips'):\n",
    "    fips_ids.append(region)\n",
    "    contaminant_levels.append(sum(df_region.value))\n",
    "    population_served.append(sum(df_region.pop_served))\n",
    "print(len(fips_ids))\n",
    "print(len(contaminant_levels))\n",
    "print(len(population_served))\n"
   ]
  },
  {
   "cell_type": "code",
   "execution_count": 45,
   "metadata": {},
   "outputs": [
    {
     "name": "stdout",
     "output_type": "stream",
     "text": [
      "created figure\n",
      "writing figure\n",
      "done\n"
     ]
    }
   ],
   "source": [
    "create_plotly_map(fips_ids, population_served, 'population_map_general.png')"
   ]
  },
  {
   "cell_type": "code",
   "execution_count": 44,
   "metadata": {},
   "outputs": [
    {
     "name": "stdout",
     "output_type": "stream",
     "text": [
      "created figure\n",
      "writing figure\n",
      "done\n"
     ]
    }
   ],
   "source": [
    "create_plotly_map(fips_ids, contaminant_levels, 'contaminant_map_general.png')"
   ]
  },
  {
   "cell_type": "code",
   "execution_count": null,
   "metadata": {},
   "outputs": [],
   "source": [
    "print(sum(df_chemicals['state_fips'] == 48))"
   ]
  },
  {
   "cell_type": "code",
   "execution_count": null,
   "metadata": {},
   "outputs": [],
   "source": [
    "df_chemicals = read_csv('earnings')\n",
    "fips_ids = []\n",
    "median_earnings = []\n",
    "df_chemicals = df_chemicals.dropna()\n",
    "#df_chemicals = df_chemicals[df_chemicals['year'] == 2016]\n",
    "for region, df_region in df_chemicals.groupby('fips'):\n",
    "    fips_ids.append(region)\n",
    "    median_earnings.append(sum(df_region.total_med))\n",
    "df_chemicals.head()\n",
    "create_plotly_map(fips_ids, median_earnings, 'earnings_map_2016.png')"
   ]
  },
  {
   "cell_type": "code",
   "execution_count": null,
   "metadata": {},
   "outputs": [],
   "source": [
    "df_chemicals = read_csv('chemicals')\n",
    "#df_chemicals = df_chemicals[df_chemicals['chemical_species'] == 'Nitrates']\n",
    "print(len(df_chemicals))\n",
    "print(len(df_chemicals.fips.unique()))\n",
    "df_earnings = read_csv('earnings')\n",
    "df_industry = read_csv('industry_occupation')"
   ]
  },
  {
   "cell_type": "code",
   "execution_count": null,
   "metadata": {},
   "outputs": [],
   "source": [
    "average_by_fips = df_earnings.groupby(\"fips\")\n",
    "fips = []\n",
    "yrs = []\n",
    "avg_values = []\n",
    "\n",
    "for g in average_by_fips:\n",
    "    fips.append(g[0])\n",
    "    avg_values.append(np.mean(g[1][\"total_med\"]))\n",
    "fip_to_earnings = dict(zip(fips, avg_values))"
   ]
  },
  {
   "cell_type": "code",
   "execution_count": null,
   "metadata": {},
   "outputs": [],
   "source": [
    "average_by_fips = df_chemicals.groupby(\"fips\")\n",
    "fips = []\n",
    "yrs = []\n",
    "avg_values = []\n",
    "\n",
    "for g in average_by_fips:\n",
    "    fips.append(g[0])\n",
    "    avg_values.append(np.mean(g[1][\"value\"]))\n",
    "fip_to_contamination = dict(zip(fips, avg_values))"
   ]
  },
  {
   "cell_type": "code",
   "execution_count": null,
   "metadata": {},
   "outputs": [],
   "source": [
    "contamination_to_earnings = {}\n",
    "contam = []\n",
    "earn = []\n",
    "for fip in fip_to_earnings:\n",
    "    if fip in fip_to_contamination:\n",
    "        contam.append(fip_to_contamination[fip])\n",
    "        earn.append(fip_to_earnings[fip])\n",
    "        contamination_to_earnings[fip_to_contamination[fip]] = fip_to_earnings[fip]\n",
    "print(len(contam))\n",
    "print(len(earn))"
   ]
  },
  {
   "cell_type": "code",
   "execution_count": null,
   "metadata": {},
   "outputs": [],
   "source": [
    "stats.pearsonr(contam, earn)"
   ]
  },
  {
   "cell_type": "code",
   "execution_count": 3,
   "metadata": {},
   "outputs": [],
   "source": [
    "df_industry = read_csv('industry_occupation')"
   ]
  },
  {
   "cell_type": "code",
   "execution_count": 4,
   "metadata": {},
   "outputs": [
    {
     "data": {
      "text/plain": [
       "Index(['geo_id', 'fips', 'county', 'total_employed', 'agriculture',\n",
       "       'construction', 'manufacturing', 'wholesale_trade', 'retail_trade',\n",
       "       'transport_utilities', 'information', 'finance_insurance_realestate',\n",
       "       'prof_scientific_waste', 'edu_health', 'arts_recreation', 'other',\n",
       "       'public_admin', 'year'],\n",
       "      dtype='object')"
      ]
     },
     "execution_count": 4,
     "metadata": {},
     "output_type": "execute_result"
    }
   ],
   "source": [
    "df_industry.columns"
   ]
  },
  {
   "cell_type": "code",
   "execution_count": 5,
   "metadata": {},
   "outputs": [
    {
     "data": {
      "text/html": [
       "<div>\n",
       "<style scoped>\n",
       "    .dataframe tbody tr th:only-of-type {\n",
       "        vertical-align: middle;\n",
       "    }\n",
       "\n",
       "    .dataframe tbody tr th {\n",
       "        vertical-align: top;\n",
       "    }\n",
       "\n",
       "    .dataframe thead th {\n",
       "        text-align: right;\n",
       "    }\n",
       "</style>\n",
       "<table border=\"1\" class=\"dataframe\">\n",
       "  <thead>\n",
       "    <tr style=\"text-align: right;\">\n",
       "      <th></th>\n",
       "      <th>geo_id</th>\n",
       "      <th>fips</th>\n",
       "      <th>county</th>\n",
       "      <th>total_employed</th>\n",
       "      <th>agriculture</th>\n",
       "      <th>construction</th>\n",
       "      <th>manufacturing</th>\n",
       "      <th>wholesale_trade</th>\n",
       "      <th>retail_trade</th>\n",
       "      <th>transport_utilities</th>\n",
       "      <th>information</th>\n",
       "      <th>finance_insurance_realestate</th>\n",
       "      <th>prof_scientific_waste</th>\n",
       "      <th>edu_health</th>\n",
       "      <th>arts_recreation</th>\n",
       "      <th>other</th>\n",
       "      <th>public_admin</th>\n",
       "      <th>year</th>\n",
       "    </tr>\n",
       "  </thead>\n",
       "  <tbody>\n",
       "    <tr>\n",
       "      <th>0</th>\n",
       "      <td>0500000US01003</td>\n",
       "      <td>1003</td>\n",
       "      <td>Baldwin County, Alabama</td>\n",
       "      <td>77263.0</td>\n",
       "      <td>1302.0</td>\n",
       "      <td>6489.0</td>\n",
       "      <td>6134.0</td>\n",
       "      <td>2131.0</td>\n",
       "      <td>9525.0</td>\n",
       "      <td>3557.0</td>\n",
       "      <td>940.0</td>\n",
       "      <td>5893.0</td>\n",
       "      <td>9873.0</td>\n",
       "      <td>14753.0</td>\n",
       "      <td>8257.0</td>\n",
       "      <td>3575.0</td>\n",
       "      <td>4834.0</td>\n",
       "      <td>2010</td>\n",
       "    </tr>\n",
       "    <tr>\n",
       "      <th>1</th>\n",
       "      <td>0500000US01015</td>\n",
       "      <td>1015</td>\n",
       "      <td>Calhoun County, Alabama</td>\n",
       "      <td>42768.0</td>\n",
       "      <td>337.0</td>\n",
       "      <td>1371.0</td>\n",
       "      <td>7868.0</td>\n",
       "      <td>750.0</td>\n",
       "      <td>5706.0</td>\n",
       "      <td>1626.0</td>\n",
       "      <td>779.0</td>\n",
       "      <td>2234.0</td>\n",
       "      <td>3776.0</td>\n",
       "      <td>8351.0</td>\n",
       "      <td>3799.0</td>\n",
       "      <td>2440.0</td>\n",
       "      <td>3731.0</td>\n",
       "      <td>2010</td>\n",
       "    </tr>\n",
       "    <tr>\n",
       "      <th>6</th>\n",
       "      <td>0500000US01069</td>\n",
       "      <td>1069</td>\n",
       "      <td>Houston County, Alabama</td>\n",
       "      <td>45470.0</td>\n",
       "      <td>790.0</td>\n",
       "      <td>2967.0</td>\n",
       "      <td>4237.0</td>\n",
       "      <td>1897.0</td>\n",
       "      <td>6225.0</td>\n",
       "      <td>2838.0</td>\n",
       "      <td>670.0</td>\n",
       "      <td>1980.0</td>\n",
       "      <td>3458.0</td>\n",
       "      <td>9843.0</td>\n",
       "      <td>5200.0</td>\n",
       "      <td>2658.0</td>\n",
       "      <td>2707.0</td>\n",
       "      <td>2010</td>\n",
       "    </tr>\n",
       "    <tr>\n",
       "      <th>7</th>\n",
       "      <td>0500000US01073</td>\n",
       "      <td>1073</td>\n",
       "      <td>Jefferson County, Alabama</td>\n",
       "      <td>289454.0</td>\n",
       "      <td>1761.0</td>\n",
       "      <td>17682.0</td>\n",
       "      <td>27091.0</td>\n",
       "      <td>8859.0</td>\n",
       "      <td>34024.0</td>\n",
       "      <td>14727.0</td>\n",
       "      <td>8309.0</td>\n",
       "      <td>25021.0</td>\n",
       "      <td>29164.0</td>\n",
       "      <td>67630.0</td>\n",
       "      <td>26357.0</td>\n",
       "      <td>15828.0</td>\n",
       "      <td>13001.0</td>\n",
       "      <td>2010</td>\n",
       "    </tr>\n",
       "    <tr>\n",
       "      <th>8</th>\n",
       "      <td>0500000US01077</td>\n",
       "      <td>1077</td>\n",
       "      <td>Lauderdale County, Alabama</td>\n",
       "      <td>39581.0</td>\n",
       "      <td>946.0</td>\n",
       "      <td>3579.0</td>\n",
       "      <td>4285.0</td>\n",
       "      <td>1364.0</td>\n",
       "      <td>6047.0</td>\n",
       "      <td>2474.0</td>\n",
       "      <td>439.0</td>\n",
       "      <td>1771.0</td>\n",
       "      <td>2710.0</td>\n",
       "      <td>8624.0</td>\n",
       "      <td>3551.0</td>\n",
       "      <td>3148.0</td>\n",
       "      <td>643.0</td>\n",
       "      <td>2010</td>\n",
       "    </tr>\n",
       "  </tbody>\n",
       "</table>\n",
       "</div>"
      ],
      "text/plain": [
       "           geo_id  fips                      county  total_employed  \\\n",
       "0  0500000US01003  1003     Baldwin County, Alabama         77263.0   \n",
       "1  0500000US01015  1015     Calhoun County, Alabama         42768.0   \n",
       "6  0500000US01069  1069     Houston County, Alabama         45470.0   \n",
       "7  0500000US01073  1073   Jefferson County, Alabama        289454.0   \n",
       "8  0500000US01077  1077  Lauderdale County, Alabama         39581.0   \n",
       "\n",
       "   agriculture  construction  manufacturing  wholesale_trade  retail_trade  \\\n",
       "0       1302.0        6489.0         6134.0           2131.0        9525.0   \n",
       "1        337.0        1371.0         7868.0            750.0        5706.0   \n",
       "6        790.0        2967.0         4237.0           1897.0        6225.0   \n",
       "7       1761.0       17682.0        27091.0           8859.0       34024.0   \n",
       "8        946.0        3579.0         4285.0           1364.0        6047.0   \n",
       "\n",
       "   transport_utilities  information  finance_insurance_realestate  \\\n",
       "0               3557.0        940.0                        5893.0   \n",
       "1               1626.0        779.0                        2234.0   \n",
       "6               2838.0        670.0                        1980.0   \n",
       "7              14727.0       8309.0                       25021.0   \n",
       "8               2474.0        439.0                        1771.0   \n",
       "\n",
       "   prof_scientific_waste  edu_health  arts_recreation    other  public_admin  \\\n",
       "0                 9873.0     14753.0           8257.0   3575.0        4834.0   \n",
       "1                 3776.0      8351.0           3799.0   2440.0        3731.0   \n",
       "6                 3458.0      9843.0           5200.0   2658.0        2707.0   \n",
       "7                29164.0     67630.0          26357.0  15828.0       13001.0   \n",
       "8                 2710.0      8624.0           3551.0   3148.0         643.0   \n",
       "\n",
       "   year  \n",
       "0  2010  \n",
       "1  2010  \n",
       "6  2010  \n",
       "7  2010  \n",
       "8  2010  "
      ]
     },
     "execution_count": 5,
     "metadata": {},
     "output_type": "execute_result"
    }
   ],
   "source": [
    "fips_to_agro = {}\n",
    "df_industry = df_industry.dropna(subset=['agriculture'])\n",
    "df_industry.head()\n",
    "\n"
   ]
  },
  {
   "cell_type": "code",
   "execution_count": 6,
   "metadata": {},
   "outputs": [],
   "source": [
    "fips_names = list(df_industry.fips)\n",
    "agro_names = list(df_industry.agriculture)\n",
    "for f, a in zip(fips_names, agro_names):\n",
    "    fips_to_agro[f] = a"
   ]
  },
  {
   "cell_type": "code",
   "execution_count": 7,
   "metadata": {},
   "outputs": [],
   "source": [
    "df_chemicals = read_csv('chemicals')\n",
    "df_chemicals = df_chemicals[df_chemicals['chemical_species'] == 'Nitrates']\n",
    "df_chemicals.dropna()\n",
    "average_by_fips = df_chemicals.groupby(\"fips\")\n",
    "fips_to_contam = {}\n",
    "for g in average_by_fips:\n",
    "    fips_to_contam[g[0]] = np.mean(g[1][\"value\"])"
   ]
  },
  {
   "cell_type": "code",
   "execution_count": 8,
   "metadata": {},
   "outputs": [
    {
     "name": "stdout",
     "output_type": "stream",
     "text": [
      "[1225.8490566037735, 1328.4028776978416, 1540.7628865979382, 389.0, 2267.772466539197, 822.4603174603175, 775.0909090909091, 2828.9590202543573, 529.8979591836735, 1787.1815718157181, 1309.1601866251945, 1026.3057324840765, 678.3262711864406, 3019.135802469136, 3114.295719844358, 657.5945017182131, 452.3478260869565, 1367.371794871795, 368.1372549019608, 2172.5050709939146, 1384.9065420560748, 2110.2448979591836, 1694.6320346320347, 198.955223880597, 2400.4065040650407, 1899.6184210526317, 610.079575596817, 1726.848, 2769.6559633027523, 1042.837837837838, 991.8712574850299, 949.84375, 1315.0705270972533, 3403.850855745721, 4271.789473684211, 5103.303085299455, 2111.625, 3489.468085106383, 712.6422764227642, 941.5486725663717, 348.94329896907215, 35.55555555555556, 101.11111111111111, 230.87570621468927, 1300.028409090909, 992.5133689839572, 552.9591836734694, 344.8292682926829, 1202.2926829268292, 1344.2173913043478, 1783.7142857142858, 1694.4695898161244, 1193.6963696369637, 954.9316770186335, 1420.8126410835214, 1332.2955523672883, 627.3015873015873, 1287.0229007633588, 756.1417322834645, 65.48780487804878, 154.52153110047846, 495.4122621564482, 90.18867924528301, 360.17334777898157, 110.54263565891473, 109.53488372093024, 65.04255319148936, 1026.3849765258217, 359.42622950819674, 606.9029850746268, 1021.9761560693642, 101.85185185185185, 726.3498263888889, 79.65250965250965, 420.3480278422274, 84.23076923076923, 1390.36873747495, 160.11673151750972, 1587.0093457943926, 193.33333333333334, 50.61046511627907, 331.4732142857143, 130.67594433399603, 176.0997732426304, 1755.3218210361067, 585.2258064516129, 439.6777905638665, 86.99421965317919, 128.93557422969187, 991.3675213675214, 62.28448275862069, 111.15823817292006, 353.24858757062145, 1783.2947976878613, 1393.978102189781, 828.9878542510121, 584.4205298013245, 828.255033557047, 1517.2527472527472, 1907.4566473988439, 526.5914221218961, 377.14912280701753, 1256.0855263157894, 1914.7777777777778, 362.80898876404495, 571.4285714285714, 1251.2849162011173, 3380.511811023622, 1908.75, 892.5714285714286, 2694.9333333333334, 2641.304347826087, 385.55555555555554, 357.77777777777777, 1606.6666666666667, 863.3333333333334, 755.0, 743.6111111111111, 235.92592592592592, 1003.3333333333334, 1941.111111111111, 371.79419525065964, 1616.5573770491803, 521.2903225806451, 317.78443113772454, 843.3408323959505, 320.2344827586207, 584.7395833333334, 673.1982942430703, 2765.4421768707484, 210.16806722689077, 4467.710843373494, 1601.3642960812772, 117.72058823529412, 3135.088105726872, 2558.0730897009967, 4510.833333333333, 2200.612244897959, 77.82608695652173, 54.81292517006803, 1979.967213114754, 2530.8311688311687, 1829.4117647058824, 1005.7964601769911, 347.8817733990148, 1073.361581920904, 905.8880778588808, 403.04945054945057, 646.8125, 1056.1881188118812, 940.6613756613757, 1573.80658436214, 968.8125, 86.47058823529412, 731.9702338766832, 105.42372881355932, 454.380664652568, 381.7647058823529, 673.6134453781513, 141.39107611548556, 254.13669064748203, 142.34177215189874, 96.86170212765957, 234.6138996138996, 1654.763779527559, 1488.5039370078741, 615.0970017636685, 928.069105691057, 255.11560693641619, 31.956521739130434, 105.55555555555556, 662.6300578034682, 168.91304347826087, 161.07843137254903, 86.56716417910448, 166.71586715867159, 540.5486968449932, 86.77966101694915, 345.6521739130435, 308.1877022653722, 106.64179104477611, 942.0754716981132, 97.10247349823321, 261.1904761904762, 1717.142857142857, 622.262156448203, 483.8334778837814, 733.9580908032596, 472.0816864295125, 539.1542649727768, 657.027027027027, 807.8383458646616, 2780.5729166666665, 401.30486358244366, 1032.931937172775, 443.24120603015075, 3836.8265682656825, 1840.2877697841727, 1188.1121495327102, 912.6666666666666, 2536.2131519274376, 1742.3595505617977, 1070.7589285714287, 205.45454545454547, 1653.0126002290951, 362.87539936102235, 1390.7668711656443, 1560.3819444444443, 3281.875, 2146.7724288840263, 1911.2903225806451, 2394.6938775510203, 1164.9418604651162, 492.4755700325733, 3441.9883040935674, 138.91472868217053, 398.69662921348316, 183.30739299610894, 1476.3477088948787, 545.3846153846154, 227.27272727272728, 675.1168831168832, 1353.425, 1260.5072463768115, 638.7608069164265, 831.9844357976654, 346.8937875751503, 1257.2142857142858, 513.7184115523465, 700.4428904428904, 607.9473684210526, 1316.0994764397906, 261.47058823529414, 3420.5574912891984, 157.14285714285714, 186.54952076677316, 1339.9043977055449, 1637.2248803827752, 1280.8424908424909, 548.2657120127287, 1202.5057471264367, 1115.772797527048, 674.0574506283663, 1062.5365853658536, 620.0626959247649, 1106.9960079840318, 786.0693641618498, 1376.6011787819255, 1763.6363636363637, 591.4391691394659, 578.1782945736434, 526.779303062302, 444.69208211143695, 1446.6666666666667, 967.0104068117313, 944.7244094488188, 624.375, 729.8601398601398, 554.0, 877.1428571428571, 501.91358024691357, 1383.848167539267, 799.1666666666666, 482.3636363636364, 2037.2340425531916, 536.8421052631579, 573.4444444444445, 1764.155844155844, 1809.8461538461538, 983.8541666666666, 1071.4285714285713, 1681.7355371900826, 1108.984375, 1236.583850931677, 1356.2264150943397, 1306.0, 1510.1333333333334, 607.0689655172414, 519.4444444444445, 967.112676056338, 502.61538461538464, 1016.6187050359712, 729.5238095238095, 1237.179487179487, 1624.79797979798, 1372.4193548387098, 632.0, 1386.868131868132, 489.3333333333333, 923.3333333333334, 717.5598086124402, 532.8612716763006, 1098.8950276243095, 205.16949152542372, 1034.9802371541502, 381.92, 1084.9745676500509, 1613.5714285714287, 962.796697626419, 495.76576576576576, 1370.233918128655, 1475.8294930875577, 595.6506849315068, 630.2348993288591, 2304.9767441860463, 898.9490445859873, 646.7469879518072, 888.2710280373832, 2499.9239864864867, 1411.52466367713, 1867.6299559471365, 336.6491458607096, 580.2559055118111, 843.0511811023622, 1671.4758620689656, 4046.3811728395062, 242.16417910447763, 2298.1672025723474, 547.8233438485804, 2398.148893360161, 2444.008908685969, 3410.3883495145633, 1271.8194444444443, 481.0740740740741, 1652.915057915058, 514.169741697417, 742.7903469079939, 4716.406619385343, 499.41011235955057, 2288.22265625, 3180.780780780781, 916.6760762173607, 1678.1560283687943, 507.63940520446096, 721.2200956937799, 2313.96255850234, 2644.79754601227, 1931.725888324873, 2636.1111111111113, 940.9156976744187, 351.55629139072846, 627.3076923076923, 656.4516129032259, 3654.8348017621147, 860.6506849315068, 715.921052631579, 25.766871165644172, 40.80357142857143, 85.15151515151516, 12.653061224489797, 19.677419354838708, 535.3571428571429, 98.96103896103897, 863.789592760181, 476.5040650406504, 152.5974025974026, 504.0057636887608, 682.2222222222222, 1848.7551867219918, 1087.7941176470588, 1518.3473389355743, 1750.0, 1263.5758835758836, 730.0170357751277, 806.9831223628692, 610.0557103064067, 265.37513997760357, 2701.9314079422384, 1288.994708994709, 841.3340935005701, 1198.1701030927834, 631.9935691318328, 4573.294797687861, 3042.1945945945945, 526.2025316455696, 971.4503133393017, 799.102833158447, 593.1359044995409, 866.4804469273743, 1066.96925329429, 572.5631067961165, 1218.5642317380352, 2043.0585516178737, 1626.051227321238, 2194.8478099480326, 1827.4316487158244, 1169.10780669145, 517.0, 291.3636363636364, 597.0967741935484, 409.3333333333333, 2002.808988764045, 73.24675324675324, 1554.3417366946778, 495.53435114503816, 2613.053435114504, 869.9022801302932, 1670.0393700787401, 263.6061381074169, 1168.6792452830189, 2807.3333333333335, 2959.964285714286, 203.77551020408163, 164.57142857142858, 136.28389154704945, 4990.25, 214.81203007518798, 2602.8643216080404, 2741.72, 432.63440860215053, 753.8972809667674, 676.5868263473054, 436.9003285870756, 346.7307692307692, 1116.0544217687075]\n",
      "[2289.0, 4048.0, 2674.0, 1301.0, 31991.0, 2798.0, 5536.0, 52040.0, 7336.0, 19670.0, 8090.0, 884.0, 1842.0, 12813.0, 36708.0, 4063.0, 508.0, 8743.0, 802.0, 14116.0, 5748.0, 7116.0, 15749.0, 1308.0, 12574.0, 3840.0, 1577.0, 22760.0, 4378.0, 6752.0, 1706.0, 4150.0, 5661.0, 13264.0, 4372.0, 28946.0, 29111.0, 4484.0, 4328.0, 3048.0, 1982.0, 252.0, 3175.0, 2126.0, 1532.0, 4090.0, 3048.0, 2937.0, 871.0, 7730.0, 1439.0, 727.0, 1018.0, 532.0, 672.0, 1066.0, 764.0, 238.0, 1074.0, 745.0, 1903.0, 2718.0, 464.0, 412.0, 320.0, 4877.0, 828.0, 836.0, 213.0, 421.0, 9072.0, 906.0, 1602.0, 2421.0, 413.0, 1346.0, 3898.0, 2100.0, 9929.0, 959.0, 453.0, 2946.0, 541.0, 4177.0, 1262.0, 1136.0, 4453.0, 641.0, 1879.0, 921.0, 1953.0, 903.0, 1310.0, 769.0, 977.0, 900.0, 713.0, 973.0, 3037.0, 1087.0, 879.0, 1297.0, 1465.0, 346.0, 364.0, 1342.0, 706.0, 1817.0, 362.0, 426.0, 287.0, 673.0, 562.0, 2364.0, 453.0, 1100.0, 233.0, 529.0, 197.0, 136.0, 466.0, 844.0, 1260.0, 1109.0, 1092.0, 1053.0, 452.0, 322.0, 408.0, 1048.0, 400.0, 883.0, 722.0, 6.0, 971.0, 340.0, 343.0, 1899.0, 574.0, 506.0, 690.0, 653.0, 460.0, 1074.0, 687.0, 2979.0, 1987.0, 655.0, 1184.0, 628.0, 1397.0, 523.0, 1590.0, 425.0, 2151.0, 755.0, 793.0, 704.0, 1400.0, 3354.0, 687.0, 564.0, 1361.0, 3035.0, 1046.0, 643.0, 2920.0, 1221.0, 1034.0, 1071.0, 384.0, 391.0, 502.0, 509.0, 477.0, 589.0, 690.0, 828.0, 1861.0, 1025.0, 424.0, 553.0, 693.0, 1877.0, 469.0, 218.0, 212.0, 676.0, 549.0, 745.0, 526.0, 168.0, 539.0, 751.0, 231.0, 482.0, 3793.0, 522.0, 1266.0, 291.0, 821.0, 583.0, 366.0, 679.0, 607.0, 633.0, 480.0, 654.0, 811.0, 1155.0, 222.0, 658.0, 2377.0, 2104.0, 5239.0, 862.0, 583.0, 5057.0, 1022.0, 216.0, 524.0, 396.0, 614.0, 1475.0, 1345.0, 665.0, 1443.0, 1998.0, 2584.0, 1097.0, 1049.0, 1438.0, 1137.0, 1358.0, 274.0, 638.0, 1758.0, 1812.0, 668.0, 1604.0, 1131.0, 103.0, 432.0, 200.0, 1733.0, 949.0, 45.0, 1826.0, 4105.0, 661.0, 680.0, 599.0, 263.0, 2152.0, 1305.0, 1077.0, 516.0, 977.0, 559.0, 294.0, 491.0, 307.0, 418.0, 550.0, 411.0, 1133.0, 444.0, 616.0, 663.0, 995.0, 806.0, 1493.0, 887.0, 1529.0, 614.0, 919.0, 2456.0, 251.0, 1321.0, 333.0, 1900.0, 1435.0, 1466.0, 822.0, 573.0, 927.0, 1222.0, 2066.0, 2936.0, 420.0, 1446.0, 4709.0, 1058.0, 2308.0, 3434.0, 2137.0, 3065.0, 2368.0, 9681.0, 3898.0, 1493.0, 3053.0, 3416.0, 4969.0, 1319.0, 4614.0, 1068.0, 621.0, 4006.0, 1159.0, 1012.0, 1201.0, 1013.0, 592.0, 738.0, 4552.0, 1223.0, 642.0, 1083.0, 1184.0, 1116.0, 897.0, 914.0, 1197.0, 2261.0, 2100.0, 340.0, 5194.0, 1150.0, 1248.0, 1499.0, 1105.0, 1519.0, 672.0, 352.0, 1141.0, 1698.0, 554.0, 2789.0, 1604.0, 950.0, 2861.0, 1566.0, 1986.0, 899.0, 951.0, 648.0, 750.0, 239.0, 293.0, 498.0, 3047.0, 1602.0, 815.0, 800.0, 649.0, 696.0, 387.0, 668.0, 803.0, 1436.0, 588.0, 5623.0, 2288.0, 1077.0, 1228.0, 649.0, 3066.0, 3760.0, 1384.0, 1499.0, 1056.0, 7203.0, 9598.0, 974.0, 293.0, 6293.0, 684.0, 2245.0, 3290.0, 2393.0, 2569.0, 3030.0, 1949.0, 2930.0, 17978.0, 466.0, 768.0, 1227.0, 888.0, 1089.0, 230.0, 2137.0, 3055.0, 1826.0, 848.0, 1546.0, 1296.0, 464.0, 799.0, 1391.0, 2736.0, 2649.0, 1079.0, 282.0, 1326.0, 1125.0, 1588.0, 1833.0, 1374.0, 1031.0, 747.0, 1336.0, 471.0, 1664.0]\n"
     ]
    },
    {
     "data": {
      "text/plain": [
       "(0.31907991602105085, 2.827167976404234e-11)"
      ]
     },
     "execution_count": 8,
     "metadata": {},
     "output_type": "execute_result"
    }
   ],
   "source": [
    "\n",
    "contam = []\n",
    "agro = []\n",
    "for fip in fips_to_contam:\n",
    "    if fip in fips_to_agro:\n",
    "        contam.append(fips_to_contam[fip])\n",
    "        agro.append(fips_to_agro[fip])\n",
    "print(contam)\n",
    "print(agro)\n",
    "stats.pearsonr(contam, agro)"
   ]
  },
  {
   "cell_type": "code",
   "execution_count": null,
   "metadata": {},
   "outputs": [],
   "source": [
    "import seaborn as sns"
   ]
  },
  {
   "cell_type": "code",
   "execution_count": 10,
   "metadata": {},
   "outputs": [
    {
     "data": {
      "image/png": "[encoded data removed]",
      "text/plain": [
       "<Figure size 432x288 with 1 Axes>"
      ]
     },
     "metadata": {},
     "output_type": "display_data"
    }
   ],
   "source": [
    "\n",
    "plt.title('Relation between Agriculture Workforce and Nitrate Contamination')\n",
    "plt.scatter(agro, contam)\n",
    "plt.xlabel('Agriculture Workforce')\n",
    "plt.savefig('chemicals_workforce.png')"
   ]
  },
  {
   "cell_type": "code",
   "execution_count": 50,
   "metadata": {},
   "outputs": [
    {
     "name": "stdout",
     "output_type": "stream",
     "text": [
      "[1225.8490566037735, 1328.4028776978416, 1540.7628865979382, 389.0, 2267.772466539197, 822.4603174603175, 775.0909090909091, 2828.9590202543573, 529.8979591836735, 1787.1815718157181, 1309.1601866251945, 1026.3057324840765, 678.3262711864406, 3019.135802469136, 3114.295719844358, 657.5945017182131, 452.3478260869565, 1367.371794871795, 368.1372549019608, 2172.5050709939146, 1384.9065420560748, 2110.2448979591836, 1694.6320346320347, 198.955223880597, 2400.4065040650407, 1899.6184210526317, 610.079575596817, 1726.848, 2769.6559633027523, 1042.837837837838, 991.8712574850299, 949.84375, 1315.0705270972533, 3403.850855745721, 4271.789473684211, 5103.303085299455, 2111.625, 3489.468085106383, 712.6422764227642, 941.5486725663717, 348.94329896907215, 35.55555555555556, 101.11111111111111, 230.87570621468927, 1300.028409090909, 992.5133689839572, 552.9591836734694, 344.8292682926829, 1202.2926829268292, 1344.2173913043478, 1783.7142857142858, 1694.4695898161244, 1193.6963696369637, 954.9316770186335, 1420.8126410835214, 1332.2955523672883, 627.3015873015873, 1287.0229007633588, 756.1417322834645, 65.48780487804878, 154.52153110047846, 495.4122621564482, 90.18867924528301, 360.17334777898157, 110.54263565891473, 109.53488372093024, 65.04255319148936, 1026.3849765258217, 359.42622950819674, 606.9029850746268, 1021.9761560693642, 101.85185185185185, 726.3498263888889, 79.65250965250965, 420.3480278422274, 84.23076923076923, 1390.36873747495, 160.11673151750972, 1587.0093457943926, 193.33333333333334, 50.61046511627907, 331.4732142857143, 130.67594433399603, 176.0997732426304, 1755.3218210361067, 585.2258064516129, 439.6777905638665, 86.99421965317919, 128.93557422969187, 991.3675213675214, 62.28448275862069, 111.15823817292006, 353.24858757062145, 1783.2947976878613, 1393.978102189781, 828.9878542510121, 584.4205298013245, 828.255033557047, 1517.2527472527472, 1907.4566473988439, 526.5914221218961, 377.14912280701753, 1256.0855263157894, 1914.7777777777778, 362.80898876404495, 571.4285714285714, 1251.2849162011173, 3380.511811023622, 1908.75, 892.5714285714286, 2694.9333333333334, 2641.304347826087, 385.55555555555554, 357.77777777777777, 1606.6666666666667, 863.3333333333334, 755.0, 743.6111111111111, 235.92592592592592, 1003.3333333333334, 1941.111111111111, 371.79419525065964, 1616.5573770491803, 521.2903225806451, 317.78443113772454, 843.3408323959505, 320.2344827586207, 584.7395833333334, 673.1982942430703, 2765.4421768707484, 210.16806722689077, 4467.710843373494, 1601.3642960812772, 117.72058823529412, 3135.088105726872, 2558.0730897009967, 4510.833333333333, 2200.612244897959, 77.82608695652173, 54.81292517006803, 1979.967213114754, 2530.8311688311687, 1829.4117647058824, 1005.7964601769911, 347.8817733990148, 1073.361581920904, 905.8880778588808, 403.04945054945057, 646.8125, 1056.1881188118812, 940.6613756613757, 1573.80658436214, 968.8125, 86.47058823529412, 731.9702338766832, 105.42372881355932, 454.380664652568, 381.7647058823529, 673.6134453781513, 141.39107611548556, 254.13669064748203, 142.34177215189874, 96.86170212765957, 234.6138996138996, 1654.763779527559, 1488.5039370078741, 615.0970017636685, 928.069105691057, 255.11560693641619, 31.956521739130434, 105.55555555555556, 662.6300578034682, 168.91304347826087, 161.07843137254903, 86.56716417910448, 166.71586715867159, 540.5486968449932, 86.77966101694915, 345.6521739130435, 308.1877022653722, 106.64179104477611, 942.0754716981132, 97.10247349823321, 261.1904761904762, 1717.142857142857, 622.262156448203, 483.8334778837814, 733.9580908032596, 472.0816864295125, 539.1542649727768, 657.027027027027, 807.8383458646616, 2780.5729166666665, 401.30486358244366, 1032.931937172775, 443.24120603015075, 3836.8265682656825, 1840.2877697841727, 1188.1121495327102, 912.6666666666666, 2536.2131519274376, 1742.3595505617977, 1070.7589285714287, 205.45454545454547, 1653.0126002290951, 362.87539936102235, 1390.7668711656443, 1560.3819444444443, 3281.875, 2146.7724288840263, 1911.2903225806451, 2394.6938775510203, 1164.9418604651162, 492.4755700325733, 3441.9883040935674, 138.91472868217053, 398.69662921348316, 183.30739299610894, 1476.3477088948787, 545.3846153846154, 227.27272727272728, 675.1168831168832, 1353.425, 1260.5072463768115, 638.7608069164265, 831.9844357976654, 346.8937875751503, 1257.2142857142858, 513.7184115523465, 700.4428904428904, 607.9473684210526, 1316.0994764397906, 261.47058823529414, 3420.5574912891984, 157.14285714285714, 186.54952076677316, 1339.9043977055449, 1637.2248803827752, 1280.8424908424909, 548.2657120127287, 1202.5057471264367, 1115.772797527048, 674.0574506283663, 1062.5365853658536, 620.0626959247649, 1106.9960079840318, 786.0693641618498, 1376.6011787819255, 1763.6363636363637, 591.4391691394659, 578.1782945736434, 526.779303062302, 444.69208211143695, 1446.6666666666667, 967.0104068117313, 944.7244094488188, 624.375, 729.8601398601398, 554.0, 877.1428571428571, 501.91358024691357, 1383.848167539267, 799.1666666666666, 482.3636363636364, 2037.2340425531916, 536.8421052631579, 573.4444444444445, 1764.155844155844, 1809.8461538461538, 983.8541666666666, 1071.4285714285713, 1681.7355371900826, 1108.984375, 1236.583850931677, 1356.2264150943397, 1306.0, 1510.1333333333334, 607.0689655172414, 519.4444444444445, 967.112676056338, 502.61538461538464, 1016.6187050359712, 729.5238095238095, 1237.179487179487, 1624.79797979798, 1372.4193548387098, 632.0, 1386.868131868132, 489.3333333333333, 923.3333333333334, 717.5598086124402, 532.8612716763006, 1098.8950276243095, 205.16949152542372, 1034.9802371541502, 381.92, 1084.9745676500509, 1613.5714285714287, 962.796697626419, 495.76576576576576, 1370.233918128655, 1475.8294930875577, 595.6506849315068, 630.2348993288591, 2304.9767441860463, 898.9490445859873, 646.7469879518072, 888.2710280373832, 2499.9239864864867, 1411.52466367713, 1867.6299559471365, 336.6491458607096, 580.2559055118111, 843.0511811023622, 1671.4758620689656, 4046.3811728395062, 242.16417910447763, 2298.1672025723474, 547.8233438485804, 2398.148893360161, 2444.008908685969, 3410.3883495145633, 1271.8194444444443, 481.0740740740741, 1652.915057915058, 514.169741697417, 742.7903469079939, 4716.406619385343, 499.41011235955057, 2288.22265625, 3180.780780780781, 916.6760762173607, 1678.1560283687943, 507.63940520446096, 721.2200956937799, 2313.96255850234, 2644.79754601227, 1931.725888324873, 2636.1111111111113, 940.9156976744187, 351.55629139072846, 627.3076923076923, 656.4516129032259, 3654.8348017621147, 860.6506849315068, 715.921052631579, 25.766871165644172, 40.80357142857143, 85.15151515151516, 12.653061224489797, 19.677419354838708, 535.3571428571429, 98.96103896103897, 863.789592760181, 476.5040650406504, 152.5974025974026, 504.0057636887608, 682.2222222222222, 1848.7551867219918, 1087.7941176470588, 1518.3473389355743, 1750.0, 1263.5758835758836, 730.0170357751277, 806.9831223628692, 610.0557103064067, 265.37513997760357, 2701.9314079422384, 1288.994708994709, 841.3340935005701, 1198.1701030927834, 631.9935691318328, 4573.294797687861, 3042.1945945945945, 526.2025316455696, 971.4503133393017, 799.102833158447, 593.1359044995409, 866.4804469273743, 1066.96925329429, 572.5631067961165, 1218.5642317380352, 2043.0585516178737, 1626.051227321238, 2194.8478099480326, 1827.4316487158244, 1169.10780669145, 517.0, 291.3636363636364, 597.0967741935484, 409.3333333333333, 2002.808988764045, 73.24675324675324, 1554.3417366946778, 495.53435114503816, 2613.053435114504, 869.9022801302932, 1670.0393700787401, 263.6061381074169, 1168.6792452830189, 2807.3333333333335, 2959.964285714286, 203.77551020408163, 164.57142857142858, 136.28389154704945, 4990.25, 214.81203007518798, 2602.8643216080404, 2741.72, 432.63440860215053, 753.8972809667674, 676.5868263473054, 436.9003285870756, 346.7307692307692, 1116.0544217687075]\n",
      "[2289.0, 4048.0, 2674.0, 1301.0, 31991.0, 2798.0, 5536.0, 52040.0, 7336.0, 19670.0, 8090.0, 884.0, 1842.0, 12813.0, 36708.0, 4063.0, 508.0, 8743.0, 802.0, 14116.0, 5748.0, 7116.0, 15749.0, 1308.0, 12574.0, 3840.0, 1577.0, 22760.0, 4378.0, 6752.0, 1706.0, 4150.0, 5661.0, 13264.0, 4372.0, 28946.0, 29111.0, 4484.0, 4328.0, 3048.0, 1982.0, 252.0, 3175.0, 2126.0, 1532.0, 4090.0, 3048.0, 2937.0, 871.0, 7730.0, 1439.0, 727.0, 1018.0, 532.0, 672.0, 1066.0, 764.0, 238.0, 1074.0, 745.0, 1903.0, 2718.0, 464.0, 412.0, 320.0, 4877.0, 828.0, 836.0, 213.0, 421.0, 9072.0, 906.0, 1602.0, 2421.0, 413.0, 1346.0, 3898.0, 2100.0, 9929.0, 959.0, 453.0, 2946.0, 541.0, 4177.0, 1262.0, 1136.0, 4453.0, 641.0, 1879.0, 921.0, 1953.0, 903.0, 1310.0, 769.0, 977.0, 900.0, 713.0, 973.0, 3037.0, 1087.0, 879.0, 1297.0, 1465.0, 346.0, 364.0, 1342.0, 706.0, 1817.0, 362.0, 426.0, 287.0, 673.0, 562.0, 2364.0, 453.0, 1100.0, 233.0, 529.0, 197.0, 136.0, 466.0, 844.0, 1260.0, 1109.0, 1092.0, 1053.0, 452.0, 322.0, 408.0, 1048.0, 400.0, 883.0, 722.0, 6.0, 971.0, 340.0, 343.0, 1899.0, 574.0, 506.0, 690.0, 653.0, 460.0, 1074.0, 687.0, 2979.0, 1987.0, 655.0, 1184.0, 628.0, 1397.0, 523.0, 1590.0, 425.0, 2151.0, 755.0, 793.0, 704.0, 1400.0, 3354.0, 687.0, 564.0, 1361.0, 3035.0, 1046.0, 643.0, 2920.0, 1221.0, 1034.0, 1071.0, 384.0, 391.0, 502.0, 509.0, 477.0, 589.0, 690.0, 828.0, 1861.0, 1025.0, 424.0, 553.0, 693.0, 1877.0, 469.0, 218.0, 212.0, 676.0, 549.0, 745.0, 526.0, 168.0, 539.0, 751.0, 231.0, 482.0, 3793.0, 522.0, 1266.0, 291.0, 821.0, 583.0, 366.0, 679.0, 607.0, 633.0, 480.0, 654.0, 811.0, 1155.0, 222.0, 658.0, 2377.0, 2104.0, 5239.0, 862.0, 583.0, 5057.0, 1022.0, 216.0, 524.0, 396.0, 614.0, 1475.0, 1345.0, 665.0, 1443.0, 1998.0, 2584.0, 1097.0, 1049.0, 1438.0, 1137.0, 1358.0, 274.0, 638.0, 1758.0, 1812.0, 668.0, 1604.0, 1131.0, 103.0, 432.0, 200.0, 1733.0, 949.0, 45.0, 1826.0, 4105.0, 661.0, 680.0, 599.0, 263.0, 2152.0, 1305.0, 1077.0, 516.0, 977.0, 559.0, 294.0, 491.0, 307.0, 418.0, 550.0, 411.0, 1133.0, 444.0, 616.0, 663.0, 995.0, 806.0, 1493.0, 887.0, 1529.0, 614.0, 919.0, 2456.0, 251.0, 1321.0, 333.0, 1900.0, 1435.0, 1466.0, 822.0, 573.0, 927.0, 1222.0, 2066.0, 2936.0, 420.0, 1446.0, 4709.0, 1058.0, 2308.0, 3434.0, 2137.0, 3065.0, 2368.0, 9681.0, 3898.0, 1493.0, 3053.0, 3416.0, 4969.0, 1319.0, 4614.0, 1068.0, 621.0, 4006.0, 1159.0, 1012.0, 1201.0, 1013.0, 592.0, 738.0, 4552.0, 1223.0, 642.0, 1083.0, 1184.0, 1116.0, 897.0, 914.0, 1197.0, 2261.0, 2100.0, 340.0, 5194.0, 1150.0, 1248.0, 1499.0, 1105.0, 1519.0, 672.0, 352.0, 1141.0, 1698.0, 554.0, 2789.0, 1604.0, 950.0, 2861.0, 1566.0, 1986.0, 899.0, 951.0, 648.0, 750.0, 239.0, 293.0, 498.0, 3047.0, 1602.0, 815.0, 800.0, 649.0, 696.0, 387.0, 668.0, 803.0, 1436.0, 588.0, 5623.0, 2288.0, 1077.0, 1228.0, 649.0, 3066.0, 3760.0, 1384.0, 1499.0, 1056.0, 7203.0, 9598.0, 974.0, 293.0, 6293.0, 684.0, 2245.0, 3290.0, 2393.0, 2569.0, 3030.0, 1949.0, 2930.0, 17978.0, 466.0, 768.0, 1227.0, 888.0, 1089.0, 230.0, 2137.0, 3055.0, 1826.0, 848.0, 1546.0, 1296.0, 464.0, 799.0, 1391.0, 2736.0, 2649.0, 1079.0, 282.0, 1326.0, 1125.0, 1588.0, 1833.0, 1374.0, 1031.0, 747.0, 1336.0, 471.0, 1664.0]\n"
     ]
    },
    {
     "data": {
      "image/png": "[encoded data removed]",
      "text/plain": [
       "<Figure size 432x288 with 1 Axes>"
      ]
     },
     "metadata": {},
     "output_type": "display_data"
    }
   ],
   "source": [
    "import pandas as pd\n",
    "import numpy as np\n",
    "from scipy import stats\n",
    "%matplotlib inline\n",
    "def read_csv(df_name):\n",
    "    return pd.read_csv(df_name + '_processed.csv')\n",
    "df_industry = read_csv('industry_occupation')\n",
    "fips_to_agro = {}\n",
    "df_industry = df_industry.dropna(subset=['agriculture'])\n",
    "fips_names = list(df_industry.fips)\n",
    "agro_names = list(df_industry.agriculture)\n",
    "for f, a in zip(fips_names, agro_names):\n",
    "    fips_to_agro[f] = a\n",
    "df_chemicals = read_csv('chemicals')\n",
    "df_chemicals = df_chemicals[df_chemicals['chemical_species'] == 'Nitrates']\n",
    "df_chemicals.dropna()\n",
    "average_by_fips = df_chemicals.groupby(\"fips\")\n",
    "fips_to_contam = {}\n",
    "for g in average_by_fips:\n",
    "    fips_to_contam[g[0]] = np.mean(g[1][\"value\"])\n",
    "contam = []\n",
    "agro = []\n",
    "for fip in fips_to_contam:\n",
    "    if fip in fips_to_agro:\n",
    "        contam.append(fips_to_contam[fip])\n",
    "        agro.append(fips_to_agro[fip])\n",
    "print(contam)\n",
    "print(agro)\n",
    "stats.pearsonr(contam, agro)\n",
    "plt.title('Relation between Agriculture Workforce and Nitrate Contamination')\n",
    "plt.scatter(agro, contam)\n",
    "plt.xlabel('Agriculture Workforce')\n",
    "plt.savefig('chemicals_workforce.png')"
   ]
  },
  {
   "cell_type": "code",
   "execution_count": 65,
   "metadata": {},
   "outputs": [
    {
     "name": "stdout",
     "output_type": "stream",
     "text": [
      "Index(['geo_id', 'fips', 'county', 'total_employed', 'agriculture',\n",
      "       'construction', 'manufacturing', 'wholesale_trade', 'retail_trade',\n",
      "       'transport_utilities', 'information', 'finance_insurance_realestate',\n",
      "       'prof_scientific_waste', 'edu_health', 'arts_recreation', 'other',\n",
      "       'public_admin', 'year'],\n",
      "      dtype='object')\n",
      "Index(['geo_id', 'fips', 'county', 'total_med', 'total_agri_fish_mine',\n",
      "       'agri_fish_hunt', 'mining_quarrying_oilgas_extract', 'construction',\n",
      "       'manufacturing', 'wholesale_trade', 'retail_trade',\n",
      "       'transport_warehouse_utilities', 'transport_warehouse', 'utilities',\n",
      "       'information', 'fin_ins_realest', 'fin_ins', 'realest_rent_lease',\n",
      "       'total_prof_sci_mgmt_admin', 'prof_sci_tech', 'mgmt', 'admin_sup',\n",
      "       'total_edu_health_social', 'edu_serv', 'health_social',\n",
      "       'total_arts_ent_acc_food', 'arts_ent_rec', 'acc_food_serv', 'other_ser',\n",
      "       'pub_admin', 'year'],\n",
      "      dtype='object')\n",
      "Index(['cws_name', 'chemical_species', 'contaminant_level', 'county_x',\n",
      "       'pws_id', 'pop_served', 'state', 'unit_measurement', 'value', 'year_x',\n",
      "       'fips', 'state_fips', 'geo_id', 'county_y', 'total_employed',\n",
      "       'agriculture', 'construction', 'manufacturing', 'wholesale_trade',\n",
      "       'retail_trade', 'transport_utilities', 'information',\n",
      "       'finance_insurance_realestate', 'prof_scientific_waste', 'edu_health',\n",
      "       'arts_recreation', 'other', 'public_admin', 'year_y'],\n",
      "      dtype='object')\n",
      "                               cws_name chemical_species  contaminant_level  \\\n",
      "0  CALIFORNIA WATER SERVICE - LIVERMORE          Uranium                  0   \n",
      "1  CALIFORNIA WATER SERVICE - LIVERMORE          Uranium                  0   \n",
      "2  CALIFORNIA WATER SERVICE - LIVERMORE          Uranium                  0   \n",
      "3  CALIFORNIA WATER SERVICE - LIVERMORE          Uranium                  0   \n",
      "4  CALIFORNIA WATER SERVICE - LIVERMORE          Uranium                  0   \n",
      "\n",
      "  county_x     pws_id pop_served       state unit_measurement  value  year_x  \\\n",
      "0  Alameda  CA0110003      57200  California     micrograms/L   1.54    2000   \n",
      "1  Alameda  CA0110003      57200  California     micrograms/L   1.54    2000   \n",
      "2  Alameda  CA0110003      57200  California     micrograms/L   1.54    2000   \n",
      "3  Alameda  CA0110003      57200  California     micrograms/L   1.54    2000   \n",
      "4  Alameda  CA0110003      57200  California     micrograms/L   1.54    2000   \n",
      "\n",
      "    ...    retail_trade  transport_utilities information  \\\n",
      "0   ...         71978.0              37659.0     21330.0   \n",
      "1   ...         71929.0              39524.0     21455.0   \n",
      "2   ...         74141.0              32068.0     22626.0   \n",
      "3   ...         80081.0              37923.0     22424.0   \n",
      "4   ...         75990.0              38439.0     26613.0   \n",
      "\n",
      "  finance_insurance_realestate  prof_scientific_waste  edu_health  \\\n",
      "0                      40478.0               113728.0    157244.0   \n",
      "1                      45204.0               111334.0    162364.0   \n",
      "2                      45107.0               126063.0    170045.0   \n",
      "3                      47494.0               131794.0    172876.0   \n",
      "4                      49106.0               139503.0    178747.0   \n",
      "\n",
      "   arts_recreation    other  public_admin  year_y  \n",
      "0          56708.0  35947.0       28049.0    2010  \n",
      "1          68460.0  37458.0       25306.0    2011  \n",
      "2          71294.0  38390.0       25963.0    2012  \n",
      "3          64363.0  36613.0       26784.0    2013  \n",
      "4          76076.0  44163.0       29184.0    2014  \n",
      "\n",
      "[5 rows x 29 columns]\n"
     ]
    }
   ],
   "source": [
    "\n",
    "df_chemicals = read_csv('chemicals')\n",
    "df_earnings = read_csv('earnings')\n",
    "df_industry = read_csv('industry_occupation')\n",
    "\n",
    "print(df_industry.columns)\n",
    "print(df_earnings.columns)\n",
    "#df_chemicals.head()\n",
    "#df_main = join_two_datasets(df_chemicals, df_earnings, ['fips'])\n",
    "df_main = join_two_datasets(df_chemicals, df_industry, ['fips'])\n",
    "print(df_main.columns)"
   ]
  },
  {
   "cell_type": "code",
   "execution_count": 57,
   "metadata": {},
   "outputs": [
    {
     "data": {
      "image/png": "[encoded data removed]",
      "text/plain": [
       "<Figure size 432x288 with 1 Axes>"
      ]
     },
     "metadata": {},
     "output_type": "display_data"
    }
   ],
   "source": [
    "ax = sns.regplot(x=\"total_employed\", y=\"value\", data=df_main, x_jitter=.1)"
   ]
  },
  {
   "cell_type": "code",
   "execution_count": 58,
   "metadata": {},
   "outputs": [
    {
     "data": {
      "image/png": "[encoded data removed]",
      "text/plain": [
       "<Figure size 432x288 with 1 Axes>"
      ]
     },
     "metadata": {},
     "output_type": "display_data"
    }
   ],
   "source": [
    "ax = sns.regplot(x=\"total_employed\", y=\"value\", data=df_main, x_jitter=.1)"
   ]
  },
  {
   "cell_type": "code",
   "execution_count": 62,
   "metadata": {},
   "outputs": [
    {
     "ename": "ValueError",
     "evalue": "Unknown label type: 'continuous'",
     "output_type": "error",
     "traceback": [
      "\u001b[0;31m---------------------------------------------------------------------------\u001b[0m",
      "\u001b[0;31mValueError\u001b[0m                                Traceback (most recent call last)",
      "\u001b[0;32m<ipython-input-62-04e9cab9c427>\u001b[0m in \u001b[0;36m<module>\u001b[0;34m()\u001b[0m\n\u001b[1;32m      4\u001b[0m \u001b[0mXs\u001b[0m \u001b[0;34m=\u001b[0m \u001b[0mdf_main\u001b[0m\u001b[0;34m[\u001b[0m\u001b[0;34m[\u001b[0m\u001b[0;34m'total_employed'\u001b[0m\u001b[0;34m,\u001b[0m \u001b[0;34m'total_med'\u001b[0m\u001b[0;34m]\u001b[0m\u001b[0;34m]\u001b[0m\u001b[0;34m\u001b[0m\u001b[0m\n\u001b[1;32m      5\u001b[0m \u001b[0mY\u001b[0m \u001b[0;34m=\u001b[0m \u001b[0mdf_main\u001b[0m\u001b[0;34m[\u001b[0m\u001b[0;34m[\u001b[0m\u001b[0;34m'contaminant_level'\u001b[0m\u001b[0;34m]\u001b[0m\u001b[0;34m]\u001b[0m\u001b[0;34m\u001b[0m\u001b[0m\n\u001b[0;32m----> 6\u001b[0;31m \u001b[0mclf\u001b[0m \u001b[0;34m=\u001b[0m \u001b[0mclf\u001b[0m\u001b[0;34m.\u001b[0m\u001b[0mfit\u001b[0m\u001b[0;34m(\u001b[0m\u001b[0mXs\u001b[0m\u001b[0;34m,\u001b[0m \u001b[0mY\u001b[0m\u001b[0;34m)\u001b[0m\u001b[0;34m\u001b[0m\u001b[0m\n\u001b[0m\u001b[1;32m      7\u001b[0m \u001b[0mprint\u001b[0m\u001b[0;34m(\u001b[0m\u001b[0msum\u001b[0m\u001b[0;34m(\u001b[0m\u001b[0mclf\u001b[0m\u001b[0;34m.\u001b[0m\u001b[0mpredict_proba\u001b[0m\u001b[0;34m(\u001b[0m\u001b[0mXs\u001b[0m\u001b[0;34m)\u001b[0m \u001b[0;34m==\u001b[0m \u001b[0mY\u001b[0m\u001b[0;34m)\u001b[0m\u001b[0;34m)\u001b[0m\u001b[0;34m\u001b[0m\u001b[0m\n",
      "\u001b[0;32m/usr/local/lib/python3.6/site-packages/sklearn/tree/tree.py\u001b[0m in \u001b[0;36mfit\u001b[0;34m(self, X, y, sample_weight, check_input, X_idx_sorted)\u001b[0m\n\u001b[1;32m    797\u001b[0m             \u001b[0msample_weight\u001b[0m\u001b[0;34m=\u001b[0m\u001b[0msample_weight\u001b[0m\u001b[0;34m,\u001b[0m\u001b[0;34m\u001b[0m\u001b[0m\n\u001b[1;32m    798\u001b[0m             \u001b[0mcheck_input\u001b[0m\u001b[0;34m=\u001b[0m\u001b[0mcheck_input\u001b[0m\u001b[0;34m,\u001b[0m\u001b[0;34m\u001b[0m\u001b[0m\n\u001b[0;32m--> 799\u001b[0;31m             X_idx_sorted=X_idx_sorted)\n\u001b[0m\u001b[1;32m    800\u001b[0m         \u001b[0;32mreturn\u001b[0m \u001b[0mself\u001b[0m\u001b[0;34m\u001b[0m\u001b[0m\n\u001b[1;32m    801\u001b[0m \u001b[0;34m\u001b[0m\u001b[0m\n",
      "\u001b[0;32m/usr/local/lib/python3.6/site-packages/sklearn/tree/tree.py\u001b[0m in \u001b[0;36mfit\u001b[0;34m(self, X, y, sample_weight, check_input, X_idx_sorted)\u001b[0m\n\u001b[1;32m    138\u001b[0m \u001b[0;34m\u001b[0m\u001b[0m\n\u001b[1;32m    139\u001b[0m         \u001b[0;32mif\u001b[0m \u001b[0mis_classification\u001b[0m\u001b[0;34m:\u001b[0m\u001b[0;34m\u001b[0m\u001b[0m\n\u001b[0;32m--> 140\u001b[0;31m             \u001b[0mcheck_classification_targets\u001b[0m\u001b[0;34m(\u001b[0m\u001b[0my\u001b[0m\u001b[0;34m)\u001b[0m\u001b[0;34m\u001b[0m\u001b[0m\n\u001b[0m\u001b[1;32m    141\u001b[0m             \u001b[0my\u001b[0m \u001b[0;34m=\u001b[0m \u001b[0mnp\u001b[0m\u001b[0;34m.\u001b[0m\u001b[0mcopy\u001b[0m\u001b[0;34m(\u001b[0m\u001b[0my\u001b[0m\u001b[0;34m)\u001b[0m\u001b[0;34m\u001b[0m\u001b[0m\n\u001b[1;32m    142\u001b[0m \u001b[0;34m\u001b[0m\u001b[0m\n",
      "\u001b[0;32m/usr/local/lib/python3.6/site-packages/sklearn/utils/multiclass.py\u001b[0m in \u001b[0;36mcheck_classification_targets\u001b[0;34m(y)\u001b[0m\n\u001b[1;32m    169\u001b[0m     if y_type not in ['binary', 'multiclass', 'multiclass-multioutput',\n\u001b[1;32m    170\u001b[0m                       'multilabel-indicator', 'multilabel-sequences']:\n\u001b[0;32m--> 171\u001b[0;31m         \u001b[0;32mraise\u001b[0m \u001b[0mValueError\u001b[0m\u001b[0;34m(\u001b[0m\u001b[0;34m\"Unknown label type: %r\"\u001b[0m \u001b[0;34m%\u001b[0m \u001b[0my_type\u001b[0m\u001b[0;34m)\u001b[0m\u001b[0;34m\u001b[0m\u001b[0m\n\u001b[0m\u001b[1;32m    172\u001b[0m \u001b[0;34m\u001b[0m\u001b[0m\n\u001b[1;32m    173\u001b[0m \u001b[0;34m\u001b[0m\u001b[0m\n",
      "\u001b[0;31mValueError\u001b[0m: Unknown label type: 'continuous'"
     ]
    }
   ],
   "source": []
  },
  {
   "cell_type": "code",
   "execution_count": 78,
   "metadata": {},
   "outputs": [],
   "source": [
    "df_main = df_main[['total_employed', 'contaminant_level', 'pop_served', 'agriculture', 'value']]\n",
    "df_main = df_main.apply(lambda x: pd.to_numeric(x, errors = 'coerce')).dropna()\n",
    "df_main = df_main.astype(int)"
   ]
  },
  {
   "cell_type": "code",
   "execution_count": 82,
   "metadata": {
    "scrolled": true
   },
   "outputs": [
    {
     "name": "stdout",
     "output_type": "stream",
     "text": [
      "Automatically created module for IPython interactive environment\n"
     ]
    },
    {
     "ename": "ValueError",
     "evalue": "c of shape (1476990, 1) not acceptable as a color sequence for x with size 1476990, y with size 1476990",
     "output_type": "error",
     "traceback": [
      "\u001b[0;31m---------------------------------------------------------------------------\u001b[0m",
      "\u001b[0;31mKeyError\u001b[0m                                  Traceback (most recent call last)",
      "\u001b[0;32m/usr/local/lib/python3.6/site-packages/matplotlib/colors.py\u001b[0m in \u001b[0;36mto_rgba\u001b[0;34m(c, alpha)\u001b[0m\n\u001b[1;32m    165\u001b[0m     \u001b[0;32mtry\u001b[0m\u001b[0;34m:\u001b[0m\u001b[0;34m\u001b[0m\u001b[0m\n\u001b[0;32m--> 166\u001b[0;31m         \u001b[0mrgba\u001b[0m \u001b[0;34m=\u001b[0m \u001b[0m_colors_full_map\u001b[0m\u001b[0;34m.\u001b[0m\u001b[0mcache\u001b[0m\u001b[0;34m[\u001b[0m\u001b[0mc\u001b[0m\u001b[0;34m,\u001b[0m \u001b[0malpha\u001b[0m\u001b[0;34m]\u001b[0m\u001b[0;34m\u001b[0m\u001b[0m\n\u001b[0m\u001b[1;32m    167\u001b[0m     \u001b[0;32mexcept\u001b[0m \u001b[0;34m(\u001b[0m\u001b[0mKeyError\u001b[0m\u001b[0;34m,\u001b[0m \u001b[0mTypeError\u001b[0m\u001b[0;34m)\u001b[0m\u001b[0;34m:\u001b[0m  \u001b[0;31m# Not in cache, or unhashable.\u001b[0m\u001b[0;34m\u001b[0m\u001b[0m\n",
      "\u001b[0;31mKeyError\u001b[0m: ('value', None)",
      "\nDuring handling of the above exception, another exception occurred:\n",
      "\u001b[0;31mValueError\u001b[0m                                Traceback (most recent call last)",
      "\u001b[0;32m/usr/local/lib/python3.6/site-packages/matplotlib/axes/_axes.py\u001b[0m in \u001b[0;36mscatter\u001b[0;34m(self, x, y, s, c, marker, cmap, norm, vmin, vmax, alpha, linewidths, verts, edgecolors, **kwargs)\u001b[0m\n\u001b[1;32m   4273\u001b[0m                 \u001b[0;31m# must be acceptable as PathCollection facecolors\u001b[0m\u001b[0;34m\u001b[0m\u001b[0;34m\u001b[0m\u001b[0m\n\u001b[0;32m-> 4274\u001b[0;31m                 \u001b[0mcolors\u001b[0m \u001b[0;34m=\u001b[0m \u001b[0mmcolors\u001b[0m\u001b[0;34m.\u001b[0m\u001b[0mto_rgba_array\u001b[0m\u001b[0;34m(\u001b[0m\u001b[0mc\u001b[0m\u001b[0;34m)\u001b[0m\u001b[0;34m\u001b[0m\u001b[0m\n\u001b[0m\u001b[1;32m   4275\u001b[0m             \u001b[0;32mexcept\u001b[0m \u001b[0mValueError\u001b[0m\u001b[0;34m:\u001b[0m\u001b[0;34m\u001b[0m\u001b[0m\n",
      "\u001b[0;32m/usr/local/lib/python3.6/site-packages/matplotlib/colors.py\u001b[0m in \u001b[0;36mto_rgba_array\u001b[0;34m(c, alpha)\u001b[0m\n\u001b[1;32m    266\u001b[0m     \u001b[0;32mfor\u001b[0m \u001b[0mi\u001b[0m\u001b[0;34m,\u001b[0m \u001b[0mcc\u001b[0m \u001b[0;32min\u001b[0m \u001b[0menumerate\u001b[0m\u001b[0;34m(\u001b[0m\u001b[0mc\u001b[0m\u001b[0;34m)\u001b[0m\u001b[0;34m:\u001b[0m\u001b[0;34m\u001b[0m\u001b[0m\n\u001b[0;32m--> 267\u001b[0;31m         \u001b[0mresult\u001b[0m\u001b[0;34m[\u001b[0m\u001b[0mi\u001b[0m\u001b[0;34m]\u001b[0m \u001b[0;34m=\u001b[0m \u001b[0mto_rgba\u001b[0m\u001b[0;34m(\u001b[0m\u001b[0mcc\u001b[0m\u001b[0;34m,\u001b[0m \u001b[0malpha\u001b[0m\u001b[0;34m)\u001b[0m\u001b[0;34m\u001b[0m\u001b[0m\n\u001b[0m\u001b[1;32m    268\u001b[0m     \u001b[0;32mreturn\u001b[0m \u001b[0mresult\u001b[0m\u001b[0;34m\u001b[0m\u001b[0m\n",
      "\u001b[0;32m/usr/local/lib/python3.6/site-packages/matplotlib/colors.py\u001b[0m in \u001b[0;36mto_rgba\u001b[0;34m(c, alpha)\u001b[0m\n\u001b[1;32m    167\u001b[0m     \u001b[0;32mexcept\u001b[0m \u001b[0;34m(\u001b[0m\u001b[0mKeyError\u001b[0m\u001b[0;34m,\u001b[0m \u001b[0mTypeError\u001b[0m\u001b[0;34m)\u001b[0m\u001b[0;34m:\u001b[0m  \u001b[0;31m# Not in cache, or unhashable.\u001b[0m\u001b[0;34m\u001b[0m\u001b[0m\n\u001b[0;32m--> 168\u001b[0;31m         \u001b[0mrgba\u001b[0m \u001b[0;34m=\u001b[0m \u001b[0m_to_rgba_no_colorcycle\u001b[0m\u001b[0;34m(\u001b[0m\u001b[0mc\u001b[0m\u001b[0;34m,\u001b[0m \u001b[0malpha\u001b[0m\u001b[0;34m)\u001b[0m\u001b[0;34m\u001b[0m\u001b[0m\n\u001b[0m\u001b[1;32m    169\u001b[0m         \u001b[0;32mtry\u001b[0m\u001b[0;34m:\u001b[0m\u001b[0;34m\u001b[0m\u001b[0m\n",
      "\u001b[0;32m/usr/local/lib/python3.6/site-packages/matplotlib/colors.py\u001b[0m in \u001b[0;36m_to_rgba_no_colorcycle\u001b[0;34m(c, alpha)\u001b[0m\n\u001b[1;32m    211\u001b[0m             \u001b[0;32mpass\u001b[0m\u001b[0;34m\u001b[0m\u001b[0m\n\u001b[0;32m--> 212\u001b[0;31m         \u001b[0;32mraise\u001b[0m \u001b[0mValueError\u001b[0m\u001b[0;34m(\u001b[0m\u001b[0;34m\"Invalid RGBA argument: {!r}\"\u001b[0m\u001b[0;34m.\u001b[0m\u001b[0mformat\u001b[0m\u001b[0;34m(\u001b[0m\u001b[0morig_c\u001b[0m\u001b[0;34m)\u001b[0m\u001b[0;34m)\u001b[0m\u001b[0;34m\u001b[0m\u001b[0m\n\u001b[0m\u001b[1;32m    213\u001b[0m     \u001b[0;31m# tuple color.\u001b[0m\u001b[0;34m\u001b[0m\u001b[0;34m\u001b[0m\u001b[0m\n",
      "\u001b[0;31mValueError\u001b[0m: Invalid RGBA argument: 'value'",
      "\nDuring handling of the above exception, another exception occurred:\n",
      "\u001b[0;31mValueError\u001b[0m                                Traceback (most recent call last)",
      "\u001b[0;32m<ipython-input-82-09a9e368a741>\u001b[0m in \u001b[0;36m<module>\u001b[0;34m()\u001b[0m\n\u001b[1;32m     71\u001b[0m     \u001b[0;31m# Plot the training points\u001b[0m\u001b[0;34m\u001b[0m\u001b[0;34m\u001b[0m\u001b[0m\n\u001b[1;32m     72\u001b[0m     ax.scatter(X_train[:, 0], X_train[:, 1], c=y_train, cmap=cm_bright,\n\u001b[0;32m---> 73\u001b[0;31m                edgecolors='k')\n\u001b[0m\u001b[1;32m     74\u001b[0m     \u001b[0;31m# Plot the testing points\u001b[0m\u001b[0;34m\u001b[0m\u001b[0;34m\u001b[0m\u001b[0m\n\u001b[1;32m     75\u001b[0m     ax.scatter(X_test[:, 0], X_test[:, 1], c=y_test, cmap=cm_bright, alpha=0.6,\n",
      "\u001b[0;32m/usr/local/lib/python3.6/site-packages/matplotlib/__init__.py\u001b[0m in \u001b[0;36minner\u001b[0;34m(ax, *args, **kwargs)\u001b[0m\n\u001b[1;32m   1853\u001b[0m                         \u001b[0;34m\"the Matplotlib list!)\"\u001b[0m \u001b[0;34m%\u001b[0m \u001b[0;34m(\u001b[0m\u001b[0mlabel_namer\u001b[0m\u001b[0;34m,\u001b[0m \u001b[0mfunc\u001b[0m\u001b[0;34m.\u001b[0m\u001b[0m__name__\u001b[0m\u001b[0;34m)\u001b[0m\u001b[0;34m,\u001b[0m\u001b[0;34m\u001b[0m\u001b[0m\n\u001b[1;32m   1854\u001b[0m                         RuntimeWarning, stacklevel=2)\n\u001b[0;32m-> 1855\u001b[0;31m             \u001b[0;32mreturn\u001b[0m \u001b[0mfunc\u001b[0m\u001b[0;34m(\u001b[0m\u001b[0max\u001b[0m\u001b[0;34m,\u001b[0m \u001b[0;34m*\u001b[0m\u001b[0margs\u001b[0m\u001b[0;34m,\u001b[0m \u001b[0;34m**\u001b[0m\u001b[0mkwargs\u001b[0m\u001b[0;34m)\u001b[0m\u001b[0;34m\u001b[0m\u001b[0m\n\u001b[0m\u001b[1;32m   1856\u001b[0m \u001b[0;34m\u001b[0m\u001b[0m\n\u001b[1;32m   1857\u001b[0m         inner.__doc__ = _add_data_doc(inner.__doc__,\n",
      "\u001b[0;32m/usr/local/lib/python3.6/site-packages/matplotlib/axes/_axes.py\u001b[0m in \u001b[0;36mscatter\u001b[0;34m(self, x, y, s, c, marker, cmap, norm, vmin, vmax, alpha, linewidths, verts, edgecolors, **kwargs)\u001b[0m\n\u001b[1;32m   4277\u001b[0m                 raise ValueError(\"c of shape {} not acceptable as a color \"\n\u001b[1;32m   4278\u001b[0m                                  \u001b[0;34m\"sequence for x with size {}, y with size {}\"\u001b[0m\u001b[0;34m\u001b[0m\u001b[0m\n\u001b[0;32m-> 4279\u001b[0;31m                                  .format(c.shape, x.size, y.size))\n\u001b[0m\u001b[1;32m   4280\u001b[0m         \u001b[0;32melse\u001b[0m\u001b[0;34m:\u001b[0m\u001b[0;34m\u001b[0m\u001b[0m\n\u001b[1;32m   4281\u001b[0m             \u001b[0mcolors\u001b[0m \u001b[0;34m=\u001b[0m \u001b[0;32mNone\u001b[0m  \u001b[0;31m# use cmap, norm after collection is created\u001b[0m\u001b[0;34m\u001b[0m\u001b[0m\n",
      "\u001b[0;31mValueError\u001b[0m: c of shape (1476990, 1) not acceptable as a color sequence for x with size 1476990, y with size 1476990"
     ]
    },
    {
     "data": {
      "image/png": "[encoded data removed]",
      "text/plain": [
       "<Figure size 1944x648 with 1 Axes>"
      ]
     },
     "metadata": {},
     "output_type": "display_data"
    }
   ],
   "source": [
    "print(__doc__)\n",
    "\n",
    "\n",
    "# Code source: Gaël Varoquaux\n",
    "#              Andreas Müller\n",
    "# Modified for documentation by Jaques Grobler\n",
    "# License: BSD 3 clause\n",
    "\n",
    "import numpy as np\n",
    "import matplotlib.pyplot as plt\n",
    "from matplotlib.colors import ListedColormap\n",
    "from sklearn.model_selection import train_test_split\n",
    "from sklearn.preprocessing import StandardScaler\n",
    "from sklearn.datasets import make_moons, make_circles, make_classification\n",
    "from sklearn.neural_network import MLPClassifier\n",
    "from sklearn.neighbors import KNeighborsClassifier\n",
    "from sklearn.svm import SVC\n",
    "from sklearn.gaussian_process import GaussianProcessClassifier\n",
    "from sklearn.gaussian_process.kernels import RBF\n",
    "from sklearn.tree import DecisionTreeClassifier\n",
    "from sklearn.ensemble import RandomForestClassifier, AdaBoostClassifier\n",
    "from sklearn.naive_bayes import GaussianNB\n",
    "from sklearn.discriminant_analysis import QuadraticDiscriminantAnalysis\n",
    "\n",
    "h = .02  # step size in the mesh\n",
    "\n",
    "names = [\"Nearest Neighbors\", \"Linear SVM\", \"RBF SVM\", \"Gaussian Process\",\n",
    "         \"Decision Tree\", \"Random Forest\", \"Neural Net\", \"AdaBoost\",\n",
    "         \"Naive Bayes\", \"QDA\"]\n",
    "\n",
    "classifiers = [\n",
    "    KNeighborsClassifier(3),\n",
    "    SVC(kernel=\"linear\", C=0.025),\n",
    "    SVC(gamma=2, C=1),\n",
    "    GaussianProcessClassifier(1.0 * RBF(1.0)),\n",
    "    DecisionTreeClassifier(max_depth=5),\n",
    "    RandomForestClassifier(max_depth=5, n_estimators=10, max_features=1),\n",
    "    MLPClassifier(alpha=1),\n",
    "    AdaBoostClassifier(),\n",
    "    GaussianNB(),\n",
    "    QuadraticDiscriminantAnalysis()]\n",
    "\n",
    "X, y = df_main[['contaminant_level','agriculture']], df_main[['value']]\n",
    "X += 2 * rng.uniform(size=X.shape)\n",
    "linearly_separable = (X, y)\n",
    "\n",
    "datasets = [\n",
    "            linearly_separable\n",
    "            ]\n",
    "\n",
    "figure = plt.figure(figsize=(27, 9))\n",
    "i = 1\n",
    "# iterate over datasets\n",
    "for ds_cnt, ds in enumerate(datasets):\n",
    "    # preprocess dataset, split into training and test part\n",
    "    X, y = ds\n",
    "    X = StandardScaler().fit_transform(X)\n",
    "    X_train, X_test, y_train, y_test = \\\n",
    "        train_test_split(X, y, test_size=.4, random_state=42)\n",
    "\n",
    "    x_min, x_max = X[:, 0].min() - .5, X[:, 0].max() + .5\n",
    "    y_min, y_max = X[:, 1].min() - .5, X[:, 1].max() + .5\n",
    "    xx, yy = np.meshgrid(np.arange(x_min, x_max, h),\n",
    "                         np.arange(y_min, y_max, h))\n",
    "\n",
    "    # just plot the dataset first\n",
    "    cm = plt.cm.RdBu\n",
    "    cm_bright = ListedColormap(['#FF0000', '#0000FF'])\n",
    "    ax = plt.subplot(len(datasets), len(classifiers) + 1, i)\n",
    "    if ds_cnt == 0:\n",
    "        ax.set_title(\"Input data\")\n",
    "    # Plot the training points\n",
    "    ax.scatter(X_train[:, 0], X_train[:, 1], c=y_train, cmap=cm_bright,\n",
    "               edgecolors='k')\n",
    "    # Plot the testing points\n",
    "    ax.scatter(X_test[:, 0], X_test[:, 1], c=y_test, cmap=cm_bright, alpha=0.6,\n",
    "               edgecolors='k')\n",
    "    ax.set_xlim(xx.min(), xx.max())\n",
    "    ax.set_ylim(yy.min(), yy.max())\n",
    "    ax.set_xticks(())\n",
    "    ax.set_yticks(())\n",
    "    i += 1\n",
    "\n",
    "    # iterate over classifiers\n",
    "    for name, clf in zip(names, classifiers):\n",
    "        ax = plt.subplot(len(datasets), len(classifiers) + 1, i)\n",
    "        clf.fit(X_train, y_train)\n",
    "        score = clf.score(X_test, y_test)\n",
    "\n",
    "        # Plot the decision boundary. For that, we will assign a color to each\n",
    "        # point in the mesh [x_min, x_max]x[y_min, y_max].\n",
    "        if hasattr(clf, \"decision_function\"):\n",
    "            Z = clf.decision_function(np.c_[xx.ravel(), yy.ravel()])\n",
    "        else:\n",
    "            Z = clf.predict_proba(np.c_[xx.ravel(), yy.ravel()])[:, 1]\n",
    "\n",
    "        # Put the result into a color plot\n",
    "        Z = Z.reshape(xx.shape)\n",
    "        ax.contourf(xx, yy, Z, cmap=cm, alpha=.8)\n",
    "\n",
    "        # Plot the training points\n",
    "        ax.scatter(X_train[:, 0], X_train[:, 1], c=y_train, cmap=cm_bright,\n",
    "                   edgecolors='k')\n",
    "        # Plot the testing points\n",
    "        ax.scatter(X_test[:, 0], X_test[:, 1], c=y_test, cmap=cm_bright,\n",
    "                   edgecolors='k', alpha=0.6)\n",
    "\n",
    "        ax.set_xlim(xx.min(), xx.max())\n",
    "        ax.set_ylim(yy.min(), yy.max())\n",
    "        ax.set_xticks(())\n",
    "        ax.set_yticks(())\n",
    "        if ds_cnt == 0:\n",
    "            ax.set_title(name)\n",
    "        ax.text(xx.max() - .3, yy.min() + .3, ('%.2f' % score).lstrip('0'),\n",
    "                size=15, horizontalalignment='right')\n",
    "        i += 1\n",
    "\n",
    "plt.tight_layout()\n",
    "plt.show()"
   ]
  },
  {
   "cell_type": "code",
   "execution_count": 85,
   "metadata": {},
   "outputs": [
    {
     "name": "stdout",
     "output_type": "stream",
     "text": [
      "Index(['cws_name', 'chemical_species', 'contaminant_level', 'county_x',\n",
      "       'pws_id', 'pop_served', 'state', 'unit_measurement', 'value', 'year_x',\n",
      "       'fips', 'state_fips', 'geo_id', 'county_y', 'total_med',\n",
      "       'total_agri_fish_mine', 'agri_fish_hunt',\n",
      "       'mining_quarrying_oilgas_extract', 'construction', 'manufacturing',\n",
      "       'wholesale_trade', 'retail_trade', 'transport_warehouse_utilities',\n",
      "       'transport_warehouse', 'utilities', 'information', 'fin_ins_realest',\n",
      "       'fin_ins', 'realest_rent_lease', 'total_prof_sci_mgmt_admin',\n",
      "       'prof_sci_tech', 'mgmt', 'admin_sup', 'total_edu_health_social',\n",
      "       'edu_serv', 'health_social', 'total_arts_ent_acc_food', 'arts_ent_rec',\n",
      "       'acc_food_serv', 'other_ser', 'pub_admin', 'year_y'],\n",
      "      dtype='object')\n"
     ]
    },
    {
     "data": {
      "text/html": [
       "<div>\n",
       "<style scoped>\n",
       "    .dataframe tbody tr th:only-of-type {\n",
       "        vertical-align: middle;\n",
       "    }\n",
       "\n",
       "    .dataframe tbody tr th {\n",
       "        vertical-align: top;\n",
       "    }\n",
       "\n",
       "    .dataframe thead th {\n",
       "        text-align: right;\n",
       "    }\n",
       "</style>\n",
       "<table border=\"1\" class=\"dataframe\">\n",
       "  <thead>\n",
       "    <tr style=\"text-align: right;\">\n",
       "      <th></th>\n",
       "      <th>cws_name</th>\n",
       "      <th>chemical_species</th>\n",
       "      <th>contaminant_level</th>\n",
       "      <th>county_x</th>\n",
       "      <th>pws_id</th>\n",
       "      <th>pop_served</th>\n",
       "      <th>state</th>\n",
       "      <th>unit_measurement</th>\n",
       "      <th>value</th>\n",
       "      <th>year_x</th>\n",
       "      <th>...</th>\n",
       "      <th>admin_sup</th>\n",
       "      <th>total_edu_health_social</th>\n",
       "      <th>edu_serv</th>\n",
       "      <th>health_social</th>\n",
       "      <th>total_arts_ent_acc_food</th>\n",
       "      <th>arts_ent_rec</th>\n",
       "      <th>acc_food_serv</th>\n",
       "      <th>other_ser</th>\n",
       "      <th>pub_admin</th>\n",
       "      <th>year_y</th>\n",
       "    </tr>\n",
       "  </thead>\n",
       "  <tbody>\n",
       "    <tr>\n",
       "      <th>0</th>\n",
       "      <td>CALIFORNIA WATER SERVICE - LIVERMORE</td>\n",
       "      <td>Uranium</td>\n",
       "      <td>0</td>\n",
       "      <td>Alameda</td>\n",
       "      <td>CA0110003</td>\n",
       "      <td>57200</td>\n",
       "      <td>California</td>\n",
       "      <td>micrograms/L</td>\n",
       "      <td>1.54</td>\n",
       "      <td>2000</td>\n",
       "      <td>...</td>\n",
       "      <td>27106</td>\n",
       "      <td>41162.0</td>\n",
       "      <td>40419</td>\n",
       "      <td>41779</td>\n",
       "      <td>19476</td>\n",
       "      <td>25036</td>\n",
       "      <td>17871</td>\n",
       "      <td>26961</td>\n",
       "      <td>65466</td>\n",
       "      <td>2010</td>\n",
       "    </tr>\n",
       "    <tr>\n",
       "      <th>1</th>\n",
       "      <td>CALIFORNIA WATER SERVICE - LIVERMORE</td>\n",
       "      <td>Uranium</td>\n",
       "      <td>0</td>\n",
       "      <td>Alameda</td>\n",
       "      <td>CA0110003</td>\n",
       "      <td>57200</td>\n",
       "      <td>California</td>\n",
       "      <td>micrograms/L</td>\n",
       "      <td>1.54</td>\n",
       "      <td>2000</td>\n",
       "      <td>...</td>\n",
       "      <td>27328</td>\n",
       "      <td>42171.0</td>\n",
       "      <td>41478</td>\n",
       "      <td>42892</td>\n",
       "      <td>19561</td>\n",
       "      <td>25636</td>\n",
       "      <td>18246</td>\n",
       "      <td>27125</td>\n",
       "      <td>69809</td>\n",
       "      <td>2011</td>\n",
       "    </tr>\n",
       "    <tr>\n",
       "      <th>2</th>\n",
       "      <td>CALIFORNIA WATER SERVICE - LIVERMORE</td>\n",
       "      <td>Uranium</td>\n",
       "      <td>0</td>\n",
       "      <td>Alameda</td>\n",
       "      <td>CA0110003</td>\n",
       "      <td>57200</td>\n",
       "      <td>California</td>\n",
       "      <td>micrograms/L</td>\n",
       "      <td>1.54</td>\n",
       "      <td>2000</td>\n",
       "      <td>...</td>\n",
       "      <td>27852</td>\n",
       "      <td>42632.0</td>\n",
       "      <td>41579</td>\n",
       "      <td>43571</td>\n",
       "      <td>19696</td>\n",
       "      <td>25983</td>\n",
       "      <td>18414</td>\n",
       "      <td>27304</td>\n",
       "      <td>68787</td>\n",
       "      <td>2012</td>\n",
       "    </tr>\n",
       "    <tr>\n",
       "      <th>3</th>\n",
       "      <td>CALIFORNIA WATER SERVICE - LIVERMORE</td>\n",
       "      <td>Uranium</td>\n",
       "      <td>0</td>\n",
       "      <td>Alameda</td>\n",
       "      <td>CA0110003</td>\n",
       "      <td>57200</td>\n",
       "      <td>California</td>\n",
       "      <td>micrograms/L</td>\n",
       "      <td>1.54</td>\n",
       "      <td>2000</td>\n",
       "      <td>...</td>\n",
       "      <td>27410</td>\n",
       "      <td>43094.0</td>\n",
       "      <td>41756</td>\n",
       "      <td>44151</td>\n",
       "      <td>19830</td>\n",
       "      <td>25676</td>\n",
       "      <td>18385</td>\n",
       "      <td>26796</td>\n",
       "      <td>68604</td>\n",
       "      <td>2013</td>\n",
       "    </tr>\n",
       "    <tr>\n",
       "      <th>4</th>\n",
       "      <td>CALIFORNIA WATER SERVICE - LIVERMORE</td>\n",
       "      <td>Uranium</td>\n",
       "      <td>0</td>\n",
       "      <td>Alameda</td>\n",
       "      <td>CA0110003</td>\n",
       "      <td>57200</td>\n",
       "      <td>California</td>\n",
       "      <td>micrograms/L</td>\n",
       "      <td>1.54</td>\n",
       "      <td>2000</td>\n",
       "      <td>...</td>\n",
       "      <td>27770</td>\n",
       "      <td>42805.0</td>\n",
       "      <td>41688</td>\n",
       "      <td>43733</td>\n",
       "      <td>19521</td>\n",
       "      <td>25235</td>\n",
       "      <td>18111</td>\n",
       "      <td>26815</td>\n",
       "      <td>67752</td>\n",
       "      <td>2014</td>\n",
       "    </tr>\n",
       "  </tbody>\n",
       "</table>\n",
       "<p>5 rows × 42 columns</p>\n",
       "</div>"
      ],
      "text/plain": [
       "                               cws_name chemical_species  contaminant_level  \\\n",
       "0  CALIFORNIA WATER SERVICE - LIVERMORE          Uranium                  0   \n",
       "1  CALIFORNIA WATER SERVICE - LIVERMORE          Uranium                  0   \n",
       "2  CALIFORNIA WATER SERVICE - LIVERMORE          Uranium                  0   \n",
       "3  CALIFORNIA WATER SERVICE - LIVERMORE          Uranium                  0   \n",
       "4  CALIFORNIA WATER SERVICE - LIVERMORE          Uranium                  0   \n",
       "\n",
       "  county_x     pws_id pop_served       state unit_measurement  value  year_x  \\\n",
       "0  Alameda  CA0110003      57200  California     micrograms/L   1.54    2000   \n",
       "1  Alameda  CA0110003      57200  California     micrograms/L   1.54    2000   \n",
       "2  Alameda  CA0110003      57200  California     micrograms/L   1.54    2000   \n",
       "3  Alameda  CA0110003      57200  California     micrograms/L   1.54    2000   \n",
       "4  Alameda  CA0110003      57200  California     micrograms/L   1.54    2000   \n",
       "\n",
       "   ...    admin_sup  total_edu_health_social edu_serv health_social  \\\n",
       "0  ...        27106                  41162.0    40419         41779   \n",
       "1  ...        27328                  42171.0    41478         42892   \n",
       "2  ...        27852                  42632.0    41579         43571   \n",
       "3  ...        27410                  43094.0    41756         44151   \n",
       "4  ...        27770                  42805.0    41688         43733   \n",
       "\n",
       "   total_arts_ent_acc_food arts_ent_rec acc_food_serv other_ser pub_admin  \\\n",
       "0                    19476        25036         17871     26961     65466   \n",
       "1                    19561        25636         18246     27125     69809   \n",
       "2                    19696        25983         18414     27304     68787   \n",
       "3                    19830        25676         18385     26796     68604   \n",
       "4                    19521        25235         18111     26815     67752   \n",
       "\n",
       "  year_y  \n",
       "0   2010  \n",
       "1   2011  \n",
       "2   2012  \n",
       "3   2013  \n",
       "4   2014  \n",
       "\n",
       "[5 rows x 42 columns]"
      ]
     },
     "execution_count": 85,
     "metadata": {},
     "output_type": "execute_result"
    }
   ],
   "source": [
    "\n",
    "chem_df = read_csv('chemicals')\n",
    "earn_df = read_csv('earnings')\n",
    "df_main = join_two_datasets(chem_df, earn_df, 'fips')\n",
    "print(df_main.columns)\n",
    "df_main.head()"
   ]
  },
  {
   "cell_type": "code",
   "execution_count": null,
   "metadata": {},
   "outputs": [],
   "source": [
    "df_main"
   ]
  },
  {
   "cell_type": "code",
   "execution_count": 88,
   "metadata": {},
   "outputs": [
    {
     "data": {
      "image/png": "[encoded data removed]",
      "text/plain": [
       "<Figure size 540x540 with 12 Axes>"
      ]
     },
     "metadata": {},
     "output_type": "display_data"
    }
   ],
   "source": [
    "sns.set()\n",
    "cols = ['contaminant_level', 'chemical_species', 'admin_sup', 'total_agri_fish_mine', 'total_med', 'value']\n",
    "sns.pairplot(df_main[cols], size = 2.5)\n",
    "plt.show();"
   ]
  },
  {
   "cell_type": "code",
   "execution_count": null,
   "metadata": {},
   "outputs": [],
   "source": []
  }
 ],
 "metadata": {
  "kernelspec": {
   "display_name": "Python 3",
   "language": "python",
   "name": "python3"
  },
  "language_info": {
   "codemirror_mode": {
    "name": "ipython",
    "version": 3
   },
   "file_extension": ".py",
   "mimetype": "text/x-python",
   "name": "python",
   "nbconvert_exporter": "python",
   "pygments_lexer": "ipython3",
   "version": "3.6.4"
  }
 },
 "nbformat": 4,
 "nbformat_minor": 2
}
